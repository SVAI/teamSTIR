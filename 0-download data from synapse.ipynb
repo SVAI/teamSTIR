{
 "cells": [
  {
   "cell_type": "markdown",
   "metadata": {},
   "source": [
    "# Download all data from synapse and save into pickle"
   ]
  },
  {
   "cell_type": "code",
   "execution_count": 7,
   "metadata": {},
   "outputs": [
    {
     "name": "stdout",
     "output_type": "stream",
     "text": [
      "Welcome, Amanda Paulson!\n",
      "\n"
     ]
    }
   ],
   "source": [
    "import synapseclient\n",
    "import synapseutils\n",
    "\n",
    "syn = synapseclient.Synapse()\n",
    "syn.login('adnama547','password') ### do not publish password!!!"
   ]
  },
  {
   "cell_type": "code",
   "execution_count": 125,
   "metadata": {},
   "outputs": [],
   "source": [
    "#download dicoms into 'files' - takes ~30-40 minutes; couldn't figure out how to suppress warnings\n",
    "#files = synapseutils.syncFromSynapse(syn, 'syn20608511')"
   ]
  },
  {
   "cell_type": "code",
   "execution_count": 13,
   "metadata": {},
   "outputs": [],
   "source": [
    "import pickle"
   ]
  },
  {
   "cell_type": "code",
   "execution_count": 14,
   "metadata": {},
   "outputs": [],
   "source": [
    "filename = 'all_data'\n",
    "outfile = open(filename,'wb')\n",
    "\n",
    "pickle.dump(files,outfile)\n",
    "outfile.close()"
   ]
  },
  {
   "cell_type": "code",
   "execution_count": 97,
   "metadata": {},
   "outputs": [
    {
     "name": "stdout",
     "output_type": "stream",
     "text": [
      "1999\n",
      "File: 001-25.0.dcm (syn20705924)\n",
      "  md5=344394361df92b498dc3a6a3c5694391\n",
      "  fileSize=718226\n",
      "  contentType=application/dicom\n",
      "  externalURL=None\n",
      "  cacheDir=/home/jupyter/.synapseCache/713/42802713\n",
      "  files=['001-25.0.dcm']\n",
      "  path=/home/jupyter/.synapseCache/713/42802713/001-25.0.dcm\n",
      "  synapseStore=True\n",
      "properties:\n",
      "  concreteType=org.sagebionetworks.repo.model.FileEntity\n",
      "  createdBy=3342573\n",
      "  createdOn=2019-09-04T05:11:52.020Z\n",
      "  dataFileHandleId=42802713\n",
      "  etag=fc04e4d4-d0a5-41b4-b30c-45de9179ee8b\n",
      "  id=syn20705924\n",
      "  modifiedBy=3342573\n",
      "  modifiedOn=2019-09-06T21:41:47.597Z\n",
      "  name=001-25.0.dcm\n",
      "  parentId=syn20705917\n",
      "  versionLabel=1\n",
      "  versionNumber=1\n",
      "annotations:\n",
      "  assay=['MRI']\n",
      "  dataSubtype=['raw']\n",
      "  dataType=['image']\n",
      "  diagnosis=['Schwannomatosis']\n",
      "  experimentalCondition=['*tse2d1_3']\n",
      "  fileFormat=['DICOM']\n",
      "  fundingAgency=['CTF, DoD, NIH']\n",
      "  individualID=['MGH_WBMRI_patient_010']\n",
      "  individualId=['MGH_WBMRI_patient_010']\n",
      "  isCellLine=['FALSE']\n",
      "  nf1Genotype=['unknown']\n",
      "  nf2Genotype=['unknown']\n",
      "  resourceType=['experimentalData']\n",
      "  sex=['Female']\n",
      "  species=['human']\n",
      "  specimenID=['MGH_WBMRI_patient_010']\n",
      "  specimenId=['MGH_WBMRI_patient_010']\n",
      "  tumorType=['unknown']\n",
      "\n"
     ]
    },
    {
     "data": {
      "text/plain": [
       "1899"
      ]
     },
     "execution_count": 97,
     "metadata": {},
     "output_type": "execute_result"
    }
   ],
   "source": [
    "print(len(files))\n",
    "print(files[20])\n",
    "dicoms=[x for x in files if 'dcm' in x.path]\n",
    "len(dicoms)"
   ]
  },
  {
   "cell_type": "code",
   "execution_count": 126,
   "metadata": {},
   "outputs": [
    {
     "name": "stdout",
     "output_type": "stream",
     "text": [
      "960 939\n"
     ]
    }
   ],
   "source": [
    "stirs=[x for x in dicoms if 'tir' in x.experimentalCondition[0]]\n",
    "t1s=[x for x in dicoms if 'tse' in x.experimentalCondition[0]]\n",
    "print(len(stirs), len(t1s))\n",
    "\n",
    "# 052 doesn't have T1"
   ]
  },
  {
   "cell_type": "markdown",
   "metadata": {},
   "source": [
    "## Examine images"
   ]
  },
  {
   "cell_type": "code",
   "execution_count": 42,
   "metadata": {},
   "outputs": [],
   "source": [
    "import skimage as sk\n",
    "from matplotlib import pyplot as plt\n",
    "import pydicom\n",
    "test_img=pydicom.dcmread(files[10].path)\n",
    "\n",
    "plt.imshow(test_img.pixel_array.T)"
   ]
  },
  {
   "cell_type": "code",
   "execution_count": 113,
   "metadata": {},
   "outputs": [],
   "source": [
    "seg_zip=files[1998].path\n",
    "import zipfile\n",
    "archive = zipfile.ZipFile(seg_zip, 'r')\n",
    "archive.extractall(path='/home/jupyter')"
   ]
  },
  {
   "cell_type": "code",
   "execution_count": 115,
   "metadata": {},
   "outputs": [
    {
     "data": {
      "text/plain": [
       "<nibabel.nifti1.Nifti1Image at 0x7f7d621d15c0>"
      ]
     },
     "execution_count": 115,
     "metadata": {},
     "output_type": "execute_result"
    }
   ],
   "source": [
    "import nibabel\n",
    "seg=nibabel.load('/home/jupyter/segmentation_50cases/segmentation-010.nii.gz')\n",
    "seg"
   ]
  },
  {
   "cell_type": "code",
   "execution_count": 122,
   "metadata": {},
   "outputs": [
    {
     "name": "stdout",
     "output_type": "stream",
     "text": [
      "[[-1.5625  0.      0.     -0.    ]\n",
      " [ 0.     -1.5625  0.     -0.    ]\n",
      " [ 0.      0.     10.      0.    ]\n",
      " [ 0.      0.      0.      1.    ]]\n",
      "(322, 1086, 20)\n"
     ]
    }
   ],
   "source": [
    "img=seg.get_data()\n",
    "print(seg.affine)\n",
    "print(img.shape)"
   ]
  },
  {
   "cell_type": "code",
   "execution_count": 123,
   "metadata": {},
   "outputs": [
    {
     "data": {
      "text/plain": [
       "<matplotlib.image.AxesImage at 0x7f7d5a7d22b0>"
      ]
     },
     "execution_count": 123,
     "metadata": {},
     "output_type": "execute_result"
    },
    {
     "data": {
      "image/png": "[encoded data removed]",
      "text/plain": [
       "<Figure size 432x288 with 1 Axes>"
      ]
     },
     "metadata": {
      "needs_background": "light"
     },
     "output_type": "display_data"
    }
   ],
   "source": [
    "plt.imshow(img[:,:,10])"
   ]
  },
  {
   "cell_type": "markdown",
   "metadata": {},
   "source": [
    "## Place dicoms into folders, create niftis, and then it should work with Michael's code"
   ]
  },
  {
   "cell_type": "code",
   "execution_count": 142,
   "metadata": {},
   "outputs": [],
   "source": [
    "#exclude 32, 36 and 52\n",
    "patients=['107', '053', '023', '010', '102', '123', '097', \n",
    "      '087', '048', '089', '222', '077', '065', '106', '098', \n",
    "      '158', '035', '081', '127', '119', '120', '268', '090', \n",
    "      '085', '224', '144', '114', '225', '063', '099', '279', \n",
    "      '019', '045', '088', '196', '095', '227', '136', '069', \n",
    "      '109', '076', '046', '061', '072', '027', '138', '047']\n",
    "patients.sort()"
   ]
  },
  {
   "cell_type": "code",
   "execution_count": 159,
   "metadata": {},
   "outputs": [
    {
     "ename": "TypeError",
     "evalue": "'builtin_function_or_method' object is not subscriptable",
     "output_type": "error",
     "traceback": [
      "\u001b[0;31m---------------------------------------------------------------------------\u001b[0m",
      "\u001b[0;31mTypeError\u001b[0m                                 Traceback (most recent call last)",
      "\u001b[0;32m<ipython-input-159-1f786adc2d5a>\u001b[0m in \u001b[0;36m<module>\u001b[0;34m\u001b[0m\n\u001b[1;32m     24\u001b[0m     \u001b[0msrc_dcms\u001b[0m \u001b[0;34m=\u001b[0m \u001b[0mglob\u001b[0m\u001b[0;34m(\u001b[0m\u001b[0mos\u001b[0m\u001b[0;34m.\u001b[0m\u001b[0mpath\u001b[0m\u001b[0;34m.\u001b[0m\u001b[0mjoin\u001b[0m\u001b[0;34m(\u001b[0m\u001b[0mfolder_path\u001b[0m\u001b[0;34m,\u001b[0m \u001b[0;34m'*.dcm'\u001b[0m\u001b[0;34m)\u001b[0m\u001b[0;34m)\u001b[0m\u001b[0;34m\u001b[0m\u001b[0;34m\u001b[0m\u001b[0m\n\u001b[1;32m     25\u001b[0m     \u001b[0mstacks\u001b[0m \u001b[0;34m=\u001b[0m \u001b[0mdcmstack\u001b[0m\u001b[0;34m.\u001b[0m\u001b[0mparse_and_stack\u001b[0m\u001b[0;34m(\u001b[0m\u001b[0msrc_dcms\u001b[0m\u001b[0;34m)\u001b[0m\u001b[0;34m\u001b[0m\u001b[0;34m\u001b[0m\u001b[0m\n\u001b[0;32m---> 26\u001b[0;31m     \u001b[0mstack\u001b[0m \u001b[0;34m=\u001b[0m \u001b[0mstacks\u001b[0m\u001b[0;34m.\u001b[0m\u001b[0mvalues\u001b[0m\u001b[0;34m[\u001b[0m\u001b[0;36m0\u001b[0m\u001b[0;34m]\u001b[0m\u001b[0;34m\u001b[0m\u001b[0;34m\u001b[0m\u001b[0m\n\u001b[0m\u001b[1;32m     27\u001b[0m     \u001b[0mnii\u001b[0m \u001b[0;34m=\u001b[0m \u001b[0mstack\u001b[0m\u001b[0;34m.\u001b[0m\u001b[0mto_nifti\u001b[0m\u001b[0;34m(\u001b[0m\u001b[0;34m)\u001b[0m\u001b[0;34m\u001b[0m\u001b[0;34m\u001b[0m\u001b[0m\n\u001b[1;32m     28\u001b[0m     \u001b[0mnii\u001b[0m\u001b[0;34m.\u001b[0m\u001b[0mto_filename\u001b[0m\u001b[0;34m(\u001b[0m\u001b[0mthis_patient\u001b[0m\u001b[0;34m+\u001b[0m\u001b[0;34m'_stir.nii.gz'\u001b[0m\u001b[0;34m)\u001b[0m\u001b[0;34m\u001b[0m\u001b[0;34m\u001b[0m\u001b[0m\n",
      "\u001b[0;31mTypeError\u001b[0m: 'builtin_function_or_method' object is not subscriptable"
     ]
    }
   ],
   "source": [
    "import os\n",
    "from shutil import copyfile\n",
    "import dcmstack\n",
    "from glob import glob\n",
    "\n",
    "\n",
    "prefix='/home/jupyter/WBMRI'\n",
    "for this_patient in patients:\n",
    "    folder_path=prefix+this_patient\n",
    "    \n",
    "    #make directory\n",
    "    #os.mkdir(folder_path)\n",
    "    \n",
    "    #get file paths for that patient\n",
    "    stir_file_paths=[x.path for x in stirs if this_patient in x.individualID[0]]\n",
    "    stir_file_names=[x.files[0] for x in stirs if this_patient in x.individualID[0]]\n",
    "    t1_file_paths=[x.path for x in t1s if this_patient in x.individualID[0]]\n",
    "    t1_file_names=[x.files[0] for x in t1s if this_patient in x.individualID[0]]\n",
    "    \n",
    "    #copy dicoms into directory\n",
    "    for i in range(0,len(stir_file_paths)):\n",
    "        copyfile(stir_file_paths[i], folder_path+'/'+stir_file_names[i])\n",
    "        \n",
    "    src_dcms = glob(os.path.join(folder_path, '*.dcm'))\n",
    "    stacks = dcmstack.parse_and_stack(src_dcms)\n",
    "    stack = stacks.values[0]\n",
    "    nii = stack.to_nifti()\n",
    "    nii.to_filename(this_patient+'_stir.nii.gz')"
   ]
  },
  {
   "cell_type": "code",
   "execution_count": 137,
   "metadata": {},
   "outputs": [],
   "source": [
    "stir_file_paths=[x.path for x in stirs if '010' in x.individualID[0]]\n",
    "t1_file_paths=[x.path for x in t1s if '010' in x.individualID[0]]"
   ]
  },
  {
   "cell_type": "code",
   "execution_count": 163,
   "metadata": {},
   "outputs": [
    {
     "ename": "TypeError",
     "evalue": "'builtin_function_or_method' object is not subscriptable",
     "output_type": "error",
     "traceback": [
      "\u001b[0;31m---------------------------------------------------------------------------\u001b[0m",
      "\u001b[0;31mTypeError\u001b[0m                                 Traceback (most recent call last)",
      "\u001b[0;32m<ipython-input-163-17d69e8ed1ae>\u001b[0m in \u001b[0;36m<module>\u001b[0;34m\u001b[0m\n\u001b[1;32m      3\u001b[0m \u001b[0msrc_dcms\u001b[0m\u001b[0;34m\u001b[0m\u001b[0;34m\u001b[0m\u001b[0m\n\u001b[1;32m      4\u001b[0m \u001b[0mstacks\u001b[0m \u001b[0;34m=\u001b[0m \u001b[0mdcmstack\u001b[0m\u001b[0;34m.\u001b[0m\u001b[0mparse_and_stack\u001b[0m\u001b[0;34m(\u001b[0m\u001b[0msrc_dcms\u001b[0m\u001b[0;34m)\u001b[0m\u001b[0;34m\u001b[0m\u001b[0;34m\u001b[0m\u001b[0m\n\u001b[0;32m----> 5\u001b[0;31m \u001b[0mstacks\u001b[0m\u001b[0;34m.\u001b[0m\u001b[0mvalues\u001b[0m\u001b[0;34m[\u001b[0m\u001b[0;36m0\u001b[0m\u001b[0;34m]\u001b[0m\u001b[0;34m\u001b[0m\u001b[0;34m\u001b[0m\u001b[0m\n\u001b[0m",
      "\u001b[0;31mTypeError\u001b[0m: 'builtin_function_or_method' object is not subscriptable"
     ]
    }
   ],
   "source": [
    "folder_path=prefix+this_patient\n",
    "src_dcms = glob(os.path.join(folder_path, '*.dcm'))\n",
    "src_dcms\n",
    "stacks = dcmstack.parse_and_stack(src_dcms)\n",
    "stacks.values[0]"
   ]
  },
  {
   "cell_type": "code",
   "execution_count": 164,
   "metadata": {},
   "outputs": [
    {
     "data": {
      "text/plain": [
       "OrderedDict([(('1.3.6.1.4.1.5962.99.1.3785683421.1058084306.1567153811933.104.0',\n",
       "               29,\n",
       "               'SPINE',\n",
       "               (1.0, 0.0, 0.0, 0.0, 0.0, -1.0)),\n",
       "              <dcmstack.dcmstack.DicomStack at 0x7f7d5a5b4470>)])"
      ]
     },
     "execution_count": 164,
     "metadata": {},
     "output_type": "execute_result"
    }
   ],
   "source": [
    "stacks"
   ]
  },
  {
   "cell_type": "code",
   "execution_count": 139,
   "metadata": {},
   "outputs": [],
   "source": [
    "import shutil"
   ]
  },
  {
   "cell_type": "code",
   "execution_count": 154,
   "metadata": {},
   "outputs": [
    {
     "name": "stdout",
     "output_type": "stream",
     "text": [
      "Collecting dcmstack\n",
      "\u001b[?25l  Downloading https://files.pythonhosted.org/packages/57/87/59cfb31731613792d6c9a38e5ad865e559be69af641bac35366af02bb4f8/dcmstack-0.7.0.tar.gz (49kB)\n",
      "\u001b[K    100% |████████████████████████████████| 51kB 3.6MB/s \n",
      "\u001b[?25hRequirement already satisfied: pydicom>=0.9.7 in /opt/anaconda3/lib/python3.7/site-packages (from dcmstack) (1.3.0)\n",
      "Requirement already satisfied: nibabel>=2.0.0 in /opt/anaconda3/lib/python3.7/site-packages (from dcmstack) (2.5.0)\n",
      "Requirement already satisfied: six>=1.3 in /opt/anaconda3/lib/python3.7/site-packages (from nibabel>=2.0.0->dcmstack) (1.10.0)\n",
      "Requirement already satisfied: numpy>=1.8 in /opt/anaconda3/lib/python3.7/site-packages (from nibabel>=2.0.0->dcmstack) (1.16.2)\n",
      "Building wheels for collected packages: dcmstack\n",
      "  Building wheel for dcmstack (setup.py) ... \u001b[?25ldone\n",
      "\u001b[?25h  Stored in directory: /home/jupyter/.cache/pip/wheels/74/f3/63/abd014d755b6dcacb074366b2494e488da8200d5b43ff37617\n",
      "Successfully built dcmstack\n",
      "Installing collected packages: dcmstack\n",
      "Successfully installed dcmstack-0.7.0\n",
      "Note: you may need to restart the kernel to use updated packages.\n"
     ]
    }
   ],
   "source": [
    "pip install dcmstack"
   ]
  },
  {
   "cell_type": "code",
   "execution_count": null,
   "metadata": {},
   "outputs": [],
   "source": []
  }
 ],
 "metadata": {
  "kernelspec": {
   "display_name": "Python 3",
   "language": "python",
   "name": "python3"
  },
  "language_info": {
   "codemirror_mode": {
    "name": "ipython",
    "version": 3
   },
   "file_extension": ".py",
   "mimetype": "text/x-python",
   "name": "python",
   "nbconvert_exporter": "python",
   "pygments_lexer": "ipython3",
   "version": "3.7.3"
  }
 },
 "nbformat": 4,
 "nbformat_minor": 2
}
